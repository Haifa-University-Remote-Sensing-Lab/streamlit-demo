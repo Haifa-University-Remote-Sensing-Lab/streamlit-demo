{
 "cells": [
  {
   "cell_type": "code",
   "execution_count": 1,
   "id": "3ef917dc",
   "metadata": {},
   "outputs": [
    {
     "ename": "ModuleNotFoundError",
     "evalue": "No module named 'ee'",
     "output_type": "error",
     "traceback": [
      "\u001B[1;31m---------------------------------------------------------------------------\u001B[0m",
      "\u001B[1;31mModuleNotFoundError\u001B[0m                       Traceback (most recent call last)",
      "Cell \u001B[1;32mIn[1], line 1\u001B[0m\n\u001B[1;32m----> 1\u001B[0m \u001B[38;5;28;01mimport\u001B[39;00m \u001B[38;5;21;01mee\u001B[39;00m\n\u001B[0;32m      2\u001B[0m \u001B[38;5;28;01mimport\u001B[39;00m \u001B[38;5;21;01mgeemap\u001B[39;00m\n",
      "\u001B[1;31mModuleNotFoundError\u001B[0m: No module named 'ee'"
     ]
    }
   ],
   "source": [
    "import ee\n",
    "import geemap"
   ]
  },
  {
   "cell_type": "code",
   "execution_count": 2,
   "id": "427f3751",
   "metadata": {},
   "outputs": [
    {
     "data": {
      "application/vnd.jupyter.widget-view+json": {
       "model_id": "9a7d0e374d0140e593395cdd9a2e19e3",
       "version_major": 2,
       "version_minor": 0
      },
      "text/plain": [
       "Map(center=[32, 35], controls=(WidgetControl(options=['position', 'transparent_bg'], widget=HBox(children=(Tog…"
      ]
     },
     "metadata": {},
     "output_type": "display_data"
    }
   ],
   "source": [
    "Map = geemap.Map(center=(32, 35), zoom=8)\n",
    "Map"
   ]
  },
  {
   "cell_type": "code",
   "execution_count": 3,
   "id": "a64ec5ac",
   "metadata": {},
   "outputs": [],
   "source": [
    "Israel_area = ee.FeatureCollection(\"users/kabkarm/IsraelBorder_Union\")\n",
    "roi_Israel = ee.FeatureCollection(Israel_area).geometry()\n",
    "\n",
    "forest_area_s = ee.FeatureCollection('WCMC/WDPA/current/polygons'); #select forests area\n",
    "\n",
    "boundary_Karmel = forest_area_s.filter(ee.Filter.eq('NAME','Har Ha-Karmel'));#Har Meron + Har Ha-Karmel + Hare Yehuda'\n",
    "Biriya_som = ee.FeatureCollection(\"projects/ee-kabkarm/assets/BiriyaShape\")\n",
    "Kdoshim_som = ee.FeatureCollection(\"projects/ee-kabkarm/assets/KdoshimShape\")\n",
    "roi_Biriya = ee.FeatureCollection(Biriya_som).geometry(); #extract area\n",
    "roi_Kdoshim = ee.FeatureCollection(Kdoshim_som).geometry(); #extract area\n",
    "roi_Karmel = ee.FeatureCollection(boundary_Karmel).geometry(); #extract area Karmle\n",
    "\n",
    "\n",
    "union = roi_Karmel.union(roi_Biriya);#Unite all 3 roi\n",
    "union_forests_roi = union.union(roi_Kdoshim);#Unite all 3 roi\n",
    "roi_Israel_dem = ee.FeatureCollection(union_forests_roi).geometry()"
   ]
  },
  {
   "cell_type": "code",
   "execution_count": 4,
   "id": "6c0cec79",
   "metadata": {},
   "outputs": [],
   "source": [
    "dem = ee.Image(\"USGS/SRTMGL1_003\")\n",
    "srtm = dem.clip(roi_Israel_dem)\n",
    "forests_dem = dem.clip(roi_Israel_dem)\n",
    "water_source = ee.Image(\"JRC/GSW1_0/GlobalSurfaceWater\")\n",
    "water = water_source.clip(roi_Israel_dem)\n",
    "\n",
    "slope = ee.Terrain.slope(srtm)\n",
    "forests_slope = slope.clip(roi_Israel_dem)"
   ]
  },
  {
   "cell_type": "code",
   "execution_count": 5,
   "id": "132b76e6",
   "metadata": {},
   "outputs": [],
   "source": [
    "Map.addLayer(forests_dem, {'min':0, 'max':1000}, 'FOREST AREA DEM')\n",
    "Map.addLayer(forests_slope, {'min': 0, 'max': 30, 'palette': ['B3A271', '663300']}, 'FOREST AREA SLOPE')"
   ]
  },
  {
   "cell_type": "code",
   "execution_count": null,
   "id": "62211b4e",
   "metadata": {},
   "outputs": [],
   "source": []
  }
 ],
 "metadata": {
  "kernelspec": {
   "display_name": "Python 3 (ipykernel)",
   "language": "python",
   "name": "python3"
  },
  "language_info": {
   "codemirror_mode": {
    "name": "ipython",
    "version": 3
   },
   "file_extension": ".py",
   "mimetype": "text/x-python",
   "name": "python",
   "nbconvert_exporter": "python",
   "pygments_lexer": "ipython3",
   "version": "3.11.0"
  }
 },
 "nbformat": 4,
 "nbformat_minor": 5
}
