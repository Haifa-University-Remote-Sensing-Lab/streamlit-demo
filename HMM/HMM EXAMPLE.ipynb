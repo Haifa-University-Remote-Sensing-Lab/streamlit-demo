{
 "cells": [
  {
   "cell_type": "code",
   "execution_count": null,
   "id": "97231bcd-218b-4941-9953-59599dea6dfa",
   "metadata": {},
   "outputs": [],
   "source": [
    "#pip install torch\n",
    "#pip install torchvision"
   ]
  },
  {
   "cell_type": "code",
   "execution_count": 1,
   "id": "a2d1068f-cc55-4b60-8379-b05d41c63f70",
   "metadata": {
    "tags": []
   },
   "outputs": [],
   "source": [
    "#https://github.com/nwams/Hidden_Markov_Model-in-PyTorch/blob/master/Hidden%20Markov%20Models%20in%20PyTorch.ipynb"
   ]
  },
  {
   "cell_type": "code",
   "execution_count": 2,
   "id": "2bf233d6-c9c9-43b4-82ce-8012ebd47fa3",
   "metadata": {
    "tags": []
   },
   "outputs": [],
   "source": [
    "#Hidden markov model using PyTorch library (deep learning neural networks).\n",
    "#Graphical HMM models included in this example: Viterbi, Forward-Backward ו-Baum Welch"
   ]
  },
  {
   "cell_type": "code",
   "execution_count": 1,
   "id": "e0495bdf-d6b8-4443-a6a1-d734012573b2",
   "metadata": {
    "tags": []
   },
   "outputs": [],
   "source": [
    "import pandas as pd"
   ]
  },
  {
   "cell_type": "code",
   "execution_count": 2,
   "id": "1eb9ff08-7fda-4957-8867-61bd0e27aa1e",
   "metadata": {
    "tags": []
   },
   "outputs": [],
   "source": [
    "#טבלת תכנות דינמית  נועדה להפוך את האלגוריתם ליעיל יותר על ידי אחסון חלק מתוצאות הביניים. זה שימושי כאשר לאלגוריתם יש הרבה חישובים שחוזרים על עצמם\n",
    "def dptable(state_prob):\n",
    "    print(\" \".join((\"%8d\" % i) for i in range(state_prob.shape[0])))\n",
    "    for i, prob in enumerate(state_prob.T):\n",
    "        print(\"%.7s: \" % states[i] +\" \".join(\"%.7s\" % (\"%f\" % p) for p in prob))"
   ]
  },
  {
   "cell_type": "code",
   "execution_count": 3,
   "id": "66e833f0-eb69-4a87-bd63-c23a4f9d60f9",
   "metadata": {
    "tags": []
   },
   "outputs": [],
   "source": [
    "#Model Parameters\n",
    "#Transition probability:\n",
    "\n",
    "#A matrix with the probabilities from transitioning from one state to the next state, over time.\n",
    "#P(nextState|currentState)\n",
    "#Emission probability:\n",
    "\n",
    "#A matrix with the probabilities of an observation (output) being generated from a state.\n",
    "#P(Observation|currentState)\n",
    "#Initial probability:\n",
    "\n",
    "#A starting probability distribution over states\n",
    "#P(initialState)\n",
    "#Final probability: A final probability distribution over states"
   ]
  },
  {
   "cell_type": "code",
   "execution_count": 4,
   "id": "0b7b9e64-b367-4b0c-b167-83bfae4a6ed6",
   "metadata": {
    "tags": []
   },
   "outputs": [],
   "source": [
    "#הוא אלגוריתם דינמי המאפשר לנו לחשב את הנתיב הסביר ביותר. זה לוקח את המקסימום על פני הסתברויות הנתיב הקודם  - Viterbi \n",
    "#חבילה זו תחשב באופן רקורסיבי את ההסתברות לנתיב הסביר ביותר\n",
    "#נתון:\n",
    "#שני מצבים אפשריים: בריא ו חום\n",
    "#תצפיות אפשריות: טמפרטורה רגילה, טמפרטורה קרה או סחרחורת\n",
    "#המודל נעשה שימוש לחיזוי האם האדם חולה או בריא\n",
    "#ישנם מספר נתיבים דרך המצבים הנסתרים (בריא וחום) המובילים לרצף הנתון, לכל אחד נתיבים שונים\n",
    "\n",
    "import numpy as np\n",
    "# A start distribution π is required; setting π = [0.6, 0.4] means a probability 0.6 of starting in state 1 (Healthy), and a  probability 0.4 of starting in state 2 (Fever)\n",
    "p0 = np.array([0.6, 0.4])\n",
    "\n",
    "transition = np.array([[0.7, 0.3],\n",
    "                       [0.4, 0.6]])\n",
    "\n",
    "emissions = np.array([[0.5, 0.1], \n",
    "              [0.4, 0.3], \n",
    "              [0.1, 0.6]])\n",
    "\n",
    "states = {0:'Healthy', 1:'Fever'}\n",
    "observations = {0:'normal', 1:'cold', 2:'dizzy'}\n",
    "\n",
    "obs_seq = np.array([0, 0, 1, 2, 2]) # Sequence: Normal, Normal, Cold, Dizzy, Dizzy"
   ]
  },
  {
   "cell_type": "code",
   "execution_count": 5,
   "id": "38a68215-0ff4-4618-afdb-f8796436abbc",
   "metadata": {
    "tags": []
   },
   "outputs": [],
   "source": [
    "#Initial state vector\n",
    "#We can think of the i_th component of the vector as representing the probability that the chain starts in state $s{i}$"
   ]
  },
  {
   "cell_type": "code",
   "execution_count": 6,
   "id": "8868e2dc-b8a0-48b5-9bd3-ff6b8761125f",
   "metadata": {
    "tags": []
   },
   "outputs": [
    {
     "data": {
      "text/html": [
       "<div>\n",
       "<style scoped>\n",
       "    .dataframe tbody tr th:only-of-type {\n",
       "        vertical-align: middle;\n",
       "    }\n",
       "\n",
       "    .dataframe tbody tr th {\n",
       "        vertical-align: top;\n",
       "    }\n",
       "\n",
       "    .dataframe thead th {\n",
       "        text-align: right;\n",
       "    }\n",
       "</style>\n",
       "<table border=\"1\" class=\"dataframe\">\n",
       "  <thead>\n",
       "    <tr style=\"text-align: right;\">\n",
       "      <th></th>\n",
       "      <th>Probability</th>\n",
       "    </tr>\n",
       "  </thead>\n",
       "  <tbody>\n",
       "    <tr>\n",
       "      <th>Healthy</th>\n",
       "      <td>0.6</td>\n",
       "    </tr>\n",
       "    <tr>\n",
       "      <th>Fever</th>\n",
       "      <td>0.4</td>\n",
       "    </tr>\n",
       "  </tbody>\n",
       "</table>\n",
       "</div>"
      ],
      "text/plain": [
       "         Probability\n",
       "Healthy          0.6\n",
       "Fever            0.4"
      ]
     },
     "execution_count": 6,
     "metadata": {},
     "output_type": "execute_result"
    }
   ],
   "source": [
    "df_p0 = pd.DataFrame(p0, index=[\"Healthy\", \"Fever\"], columns=[\"Probability\"])\n",
    "df_p0"
   ]
  },
  {
   "cell_type": "code",
   "execution_count": 7,
   "id": "8d098e4d-ea05-4998-8e66-8551ab187de9",
   "metadata": {
    "tags": []
   },
   "outputs": [],
   "source": [
    "#Transition probability matrix\n",
    "#Let's assume that if the person is Healthy now the probability that they will be healthy the next \"time\" is 70%. So that leaves a 30% chance that the person will be Feverish the next \"time\".\n",
    "\n",
    "#Let's assume that if the person is Feverish now, there's a 40% chance that they'll become Healthy next \"time\" and a 60% chance that they'll remain feverish next \"time\"."
   ]
  },
  {
   "cell_type": "code",
   "execution_count": 8,
   "id": "2e64be4b-93b8-49e4-9e0d-8ba178a370f1",
   "metadata": {
    "tags": []
   },
   "outputs": [
    {
     "data": {
      "text/html": [
       "<div>\n",
       "<style scoped>\n",
       "    .dataframe tbody tr th:only-of-type {\n",
       "        vertical-align: middle;\n",
       "    }\n",
       "\n",
       "    .dataframe tbody tr th {\n",
       "        vertical-align: top;\n",
       "    }\n",
       "\n",
       "    .dataframe thead th {\n",
       "        text-align: right;\n",
       "    }\n",
       "</style>\n",
       "<table border=\"1\" class=\"dataframe\">\n",
       "  <thead>\n",
       "    <tr style=\"text-align: right;\">\n",
       "      <th></th>\n",
       "      <th>toHealthy</th>\n",
       "      <th>toFever</th>\n",
       "    </tr>\n",
       "  </thead>\n",
       "  <tbody>\n",
       "    <tr>\n",
       "      <th>fromHealthy</th>\n",
       "      <td>0.7</td>\n",
       "      <td>0.3</td>\n",
       "    </tr>\n",
       "    <tr>\n",
       "      <th>fromFever</th>\n",
       "      <td>0.4</td>\n",
       "      <td>0.6</td>\n",
       "    </tr>\n",
       "  </tbody>\n",
       "</table>\n",
       "</div>"
      ],
      "text/plain": [
       "             toHealthy  toFever\n",
       "fromHealthy        0.7      0.3\n",
       "fromFever          0.4      0.6"
      ]
     },
     "execution_count": 8,
     "metadata": {},
     "output_type": "execute_result"
    }
   ],
   "source": [
    "df_transition = pd.DataFrame(transition, index=[\"fromHealthy\", \"fromFever\"], columns=[\"toHealthy\", \"toFever\"])\n",
    "df_transition"
   ]
  },
  {
   "cell_type": "code",
   "execution_count": 9,
   "id": "9514657d-2cd8-4a0d-919e-8ff26d5ef5c2",
   "metadata": {
    "tags": []
   },
   "outputs": [],
   "source": [
    "#Emission probability marix (Observation)\n",
    "#Let's say that we have concluded that when a person is Healthy there's a 50% chance that they are Normal, a 40% chance that they are Cold, and a 10% chance that they are Dizzy.\n",
    "\n",
    "#Let's say that we also concluded that when a person is Feverish there's a small 10% chance they are Normal, a 30% chance that they are Cold, and a much larger 60% chance that they are Dizzy."
   ]
  },
  {
   "cell_type": "code",
   "execution_count": 10,
   "id": "d12c7abc-4bdb-44ea-91b1-013be5e47967",
   "metadata": {
    "tags": []
   },
   "outputs": [
    {
     "data": {
      "text/html": [
       "<div>\n",
       "<style scoped>\n",
       "    .dataframe tbody tr th:only-of-type {\n",
       "        vertical-align: middle;\n",
       "    }\n",
       "\n",
       "    .dataframe tbody tr th {\n",
       "        vertical-align: top;\n",
       "    }\n",
       "\n",
       "    .dataframe thead th {\n",
       "        text-align: right;\n",
       "    }\n",
       "</style>\n",
       "<table border=\"1\" class=\"dataframe\">\n",
       "  <thead>\n",
       "    <tr style=\"text-align: right;\">\n",
       "      <th></th>\n",
       "      <th>Healthy</th>\n",
       "      <th>Fever</th>\n",
       "    </tr>\n",
       "  </thead>\n",
       "  <tbody>\n",
       "    <tr>\n",
       "      <th>Normal</th>\n",
       "      <td>0.5</td>\n",
       "      <td>0.1</td>\n",
       "    </tr>\n",
       "    <tr>\n",
       "      <th>Cold</th>\n",
       "      <td>0.4</td>\n",
       "      <td>0.3</td>\n",
       "    </tr>\n",
       "    <tr>\n",
       "      <th>Dizzy</th>\n",
       "      <td>0.1</td>\n",
       "      <td>0.6</td>\n",
       "    </tr>\n",
       "  </tbody>\n",
       "</table>\n",
       "</div>"
      ],
      "text/plain": [
       "        Healthy  Fever\n",
       "Normal      0.5    0.1\n",
       "Cold        0.4    0.3\n",
       "Dizzy       0.1    0.6"
      ]
     },
     "execution_count": 10,
     "metadata": {},
     "output_type": "execute_result"
    }
   ],
   "source": [
    "df_emissions = pd.DataFrame(emissions, index=[\"Normal\", \"Cold\", \"Dizzy\"], columns=[\"Healthy\", \"Fever\"])\n",
    "df_emissions"
   ]
  },
  {
   "cell_type": "code",
   "execution_count": 11,
   "id": "805589cf-bc9e-467c-8573-c5f2b72c3fbd",
   "metadata": {
    "tags": []
   },
   "outputs": [],
   "source": [
    "#Run Viterbi\n",
    "#Calculate the Viterbi path, which is the most likely sequence of states that generated the sequence given the full model"
   ]
  },
  {
   "cell_type": "code",
   "execution_count": 12,
   "id": "6846497c-7a73-47ed-9e1e-894d0676ca6e",
   "metadata": {
    "tags": []
   },
   "outputs": [],
   "source": [
    "from HiddenMarkovModel import HiddenMarkovModel"
   ]
  },
  {
   "cell_type": "code",
   "execution_count": 13,
   "id": "93eb2e5a-3b6d-4827-b47f-d83b3c9f4829",
   "metadata": {
    "tags": []
   },
   "outputs": [],
   "source": [
    "model = HiddenMarkovModel(transition, emissions, p0) # Define the HMM\n",
    "\n",
    "states_seq, state_prob = model.viterbi_inference(obs_seq) # Calculate the Viterbi path"
   ]
  },
  {
   "cell_type": "code",
   "execution_count": 14,
   "id": "6cd8733f-fadb-4edc-b379-b6b9e7f9334d",
   "metadata": {
    "tags": []
   },
   "outputs": [
    {
     "name": "stdout",
     "output_type": "stream",
     "text": [
      "Observation sequences:  ['normal', 'normal', 'cold', 'dizzy', 'dizzy']\n"
     ]
    }
   ],
   "source": [
    "print(\"Observation sequences: \", [observations[o] for o in obs_seq])\n"
   ]
  },
  {
   "cell_type": "code",
   "execution_count": 15,
   "id": "86886ba9-cca8-45a6-9c6d-5b40d62e1229",
   "metadata": {
    "tags": []
   },
   "outputs": [
    {
     "data": {
      "text/html": [
       "<style type=\"text/css\">\n",
       "#T_89760_row0_col0, #T_89760_row0_col1, #T_89760_row0_col2, #T_89760_row1_col3, #T_89760_row1_col4 {\n",
       "  background-color: yellow;\n",
       "}\n",
       "</style>\n",
       "<table id=\"T_89760\">\n",
       "  <thead>\n",
       "    <tr>\n",
       "      <th class=\"blank level0\" >&nbsp;</th>\n",
       "      <th id=\"T_89760_level0_col0\" class=\"col_heading level0 col0\" >0</th>\n",
       "      <th id=\"T_89760_level0_col1\" class=\"col_heading level0 col1\" >1</th>\n",
       "      <th id=\"T_89760_level0_col2\" class=\"col_heading level0 col2\" >2</th>\n",
       "      <th id=\"T_89760_level0_col3\" class=\"col_heading level0 col3\" >3</th>\n",
       "      <th id=\"T_89760_level0_col4\" class=\"col_heading level0 col4\" >4</th>\n",
       "    </tr>\n",
       "  </thead>\n",
       "  <tbody>\n",
       "    <tr>\n",
       "      <th id=\"T_89760_level0_row0\" class=\"row_heading level0 row0\" >Health</th>\n",
       "      <td id=\"T_89760_row0_col0\" class=\"data row0 col0\" >0.300000</td>\n",
       "      <td id=\"T_89760_row0_col1\" class=\"data row0 col1\" >0.105000</td>\n",
       "      <td id=\"T_89760_row0_col2\" class=\"data row0 col2\" >0.029400</td>\n",
       "      <td id=\"T_89760_row0_col3\" class=\"data row0 col3\" >0.002058</td>\n",
       "      <td id=\"T_89760_row0_col4\" class=\"data row0 col4\" >0.000212</td>\n",
       "    </tr>\n",
       "    <tr>\n",
       "      <th id=\"T_89760_level0_row1\" class=\"row_heading level0 row1\" >Fever</th>\n",
       "      <td id=\"T_89760_row1_col0\" class=\"data row1 col0\" >0.040000</td>\n",
       "      <td id=\"T_89760_row1_col1\" class=\"data row1 col1\" >0.009000</td>\n",
       "      <td id=\"T_89760_row1_col2\" class=\"data row1 col2\" >0.009450</td>\n",
       "      <td id=\"T_89760_row1_col3\" class=\"data row1 col3\" >0.005292</td>\n",
       "      <td id=\"T_89760_row1_col4\" class=\"data row1 col4\" >0.001905</td>\n",
       "    </tr>\n",
       "  </tbody>\n",
       "</table>\n"
      ],
      "text/plain": [
       "<pandas.io.formats.style.Styler at 0x231b2a7ba90>"
      ]
     },
     "execution_count": 15,
     "metadata": {},
     "output_type": "execute_result"
    }
   ],
   "source": [
    "import torch\n",
    "\n",
    "# Transpose the state probability matrix. Move the tensor to cpu(). Convert torch tensor to numpy array. \n",
    "df = pd.DataFrame(torch.t(state_prob).cpu().numpy(), index=[\"Health\", \"Fever\"])\n",
    "\n",
    "def highlight_max(s):\n",
    "    '''\n",
    "    Highlight the maximum in a series in yellow.\n",
    "    '''\n",
    "    is_max = s == s.max()\n",
    "    return ['background-color: yellow' if v else '' for v in is_max]\n",
    "\n",
    "# Display the tensor\n",
    "df.style.apply(highlight_max, axis=0)"
   ]
  },
  {
   "cell_type": "code",
   "execution_count": 16,
   "id": "2ba946b9-8b5c-43e2-9227-e6b1cdef6acb",
   "metadata": {
    "tags": []
   },
   "outputs": [
    {
     "name": "stdout",
     "output_type": "stream",
     "text": [
      "The most likely states are:  ['Healthy', 'Healthy', 'Healthy', 'Fever', 'Fever']\n"
     ]
    }
   ],
   "source": [
    "print(\"The most likely states are: \", [states[s.item()] for s in states_seq])\n"
   ]
  },
  {
   "cell_type": "code",
   "execution_count": null,
   "id": "7252ad2d-98f8-4fbd-b4f9-f4ac58ed11ab",
   "metadata": {},
   "outputs": [],
   "source": []
  },
  {
   "cell_type": "code",
   "execution_count": null,
   "id": "bfadcb5f-5f37-42c5-94fa-299f2590c9fe",
   "metadata": {},
   "outputs": [],
   "source": []
  },
  {
   "cell_type": "code",
   "execution_count": 17,
   "id": "3c9274ef-96d7-4991-b2e4-e9992f05eb1b",
   "metadata": {
    "tags": []
   },
   "outputs": [],
   "source": [
    "####################################### OTHER EXAMPLE Forward-Backward Example\n",
    "# Let's consider a situation where you work in a shopping mall with no views to the outside. And you want to infer the weather outside (Rain, No Rain) at the present moment, given only observations of passerby with or without an umbrella."
   ]
  },
  {
   "cell_type": "code",
   "execution_count": 18,
   "id": "b8235724-516c-48b2-8023-fcc535552eb3",
   "metadata": {
    "tags": []
   },
   "outputs": [],
   "source": [
    "#Forward-Backward Algorithm (Unsupervised)\n",
    "#Unlike the part-of-speech tagger (supervised) that has a corpus of labeled words, many applications don’t have labeled data so instead we can use the Forward-Backward algorithm (an unsupervised algorithm).\n",
    "\n",
    "#The real problem is we don’t know the counts of being in any of the hidden states! The Baum-Welch algorithm solves this by iteratively estimating the counts. We will start with an estimate for the transition and observation probabilities and then use these estimated probabilities to derive better and better probabilities. And we’re going to do this by computing the forward probability for an observation and then dividing that probability mass among all the different paths that contributed to this forward probability. [Pg. 11, Jurafsky]\n",
    "\n",
    "#Overview\n",
    "\n",
    "#The goal of the forward-backward algorithm is to find the conditional distribution over hidden states given the data.\n",
    "#It is used to find the most likely state for any point in time.\n",
    "#It cannot, however, be used to find the most likely sequence of states (see Viterbi)\n",
    "#The algorithm makes use of the principle of dynamic programming to compute efficiently the values that are required to obtain the posterior marginal distributions in two passes.\n",
    "#The first pass goes forward in time while the second goes backward in time.\n",
    "#[Youtube explanation] of the algorithm.\n",
    "\n",
    "#Forward-Backward Example\n",
    "#Let's consider a situation where you work in a shopping mall with no views to the outside. And you want to infer the weather outside (Rain, No Rain) at the present moment, given only observations of passerby with or without an umbrella."
   ]
  },
  {
   "cell_type": "code",
   "execution_count": 19,
   "id": "48e663b6-5392-4ba2-8ad3-10d30df9251f",
   "metadata": {},
   "outputs": [],
   "source": [
    "#Define Model Parameters"
   ]
  },
  {
   "cell_type": "code",
   "execution_count": 20,
   "id": "4a2da18f-e771-4af2-8f4c-2a43183774d8",
   "metadata": {},
   "outputs": [],
   "source": [
    "#Define Model Parameters\n",
    "p0 = np.array([0.5, 0.5])\n",
    "\n",
    "emi = np.array([[0.9, 0.2],\n",
    "                [0.1, 0.8]])\n",
    "\n",
    "trans = np.array([[0.7, 0.3],\n",
    "                  [0.3, 0.7]])\n",
    "\n",
    "states = {0:'rain', 1:'no_rain'}\n",
    "obs = {0:'umbrella', 1:'no_umbrella'}\n",
    "\n",
    "obs_seq = np.array([1, 1, 0, 0, 0, 1])"
   ]
  },
  {
   "cell_type": "code",
   "execution_count": 21,
   "id": "9562c7c6-6fbd-42e2-a38a-539e4c8f5449",
   "metadata": {},
   "outputs": [
    {
     "name": "stdout",
     "output_type": "stream",
     "text": [
      "Observation sequence:  ['no_umbrella', 'no_umbrella', 'umbrella', 'umbrella', 'umbrella', 'no_umbrella']\n"
     ]
    }
   ],
   "source": [
    "print(\"Observation sequence: \", [obs[o] for o in obs_seq])\n"
   ]
  },
  {
   "cell_type": "code",
   "execution_count": 22,
   "id": "9bcc6be8-c947-4606-880d-da54fb861d71",
   "metadata": {},
   "outputs": [],
   "source": [
    "#Run Forward-Backward"
   ]
  },
  {
   "cell_type": "code",
   "execution_count": 23,
   "id": "d828948e-6c8a-4225-b303-73505810cb46",
   "metadata": {},
   "outputs": [],
   "source": [
    "model =  HiddenMarkovModel(trans, emi, p0)"
   ]
  },
  {
   "cell_type": "code",
   "execution_count": 24,
   "id": "13401b16-2db5-4571-b20d-38b79e95b9e4",
   "metadata": {},
   "outputs": [],
   "source": [
    "model.N = len(obs_seq)\n",
    "\n",
    "# As defined in the module, Model.S = Number of possible states\n",
    "shape = [model.N, model.S] # [6, 2]"
   ]
  },
  {
   "cell_type": "code",
   "execution_count": 25,
   "id": "9e9f16dd-6913-4756-b342-96edbac7abf2",
   "metadata": {},
   "outputs": [],
   "source": [
    "model.initialize_forw_back_variables(shape) # Creates the \"forward\", \"backward\" and \"posterior\" tensor's each filled with 0's, each with shape [6,2] \n"
   ]
  },
  {
   "cell_type": "code",
   "execution_count": 26,
   "id": "4ae2b293-edee-4369-96cb-18af9f36e319",
   "metadata": {},
   "outputs": [
    {
     "data": {
      "text/plain": [
       "tensor([[0.1000, 0.8000],\n",
       "        [0.1000, 0.8000],\n",
       "        [0.9000, 0.2000],\n",
       "        [0.9000, 0.2000],\n",
       "        [0.9000, 0.2000],\n",
       "        [0.1000, 0.8000]], dtype=torch.float64)"
      ]
     },
     "execution_count": 26,
     "metadata": {},
     "output_type": "execute_result"
    }
   ],
   "source": [
    "obs_prob_seq = model.E[obs_seq] # Emission probability matrix\n",
    "obs_prob_seq"
   ]
  },
  {
   "cell_type": "code",
   "execution_count": 27,
   "id": "a7c9bd6b-6ada-4ac6-9a7f-78ff1fc8a5a0",
   "metadata": {},
   "outputs": [],
   "source": [
    "model.forward_backward(obs_prob_seq) # runs the forward backward algorithm on observation sequence\n"
   ]
  },
  {
   "cell_type": "code",
   "execution_count": 28,
   "id": "0360baca-5e25-4bfb-b95f-61aaa72908ff",
   "metadata": {},
   "outputs": [],
   "source": [
    "posterior = model.forward * model.backward\n"
   ]
  },
  {
   "cell_type": "code",
   "execution_count": 29,
   "id": "781ed734-de60-4ad0-afb3-d41c68808743",
   "metadata": {},
   "outputs": [
    {
     "data": {
      "text/plain": [
       "tensor([2.2222, 1.7893, 2.3405, 1.6626, 1.5378, 2.9350], dtype=torch.float64)"
      ]
     },
     "execution_count": 29,
     "metadata": {},
     "output_type": "execute_result"
    }
   ],
   "source": [
    "# marginal per timestep\n",
    "marginal = torch.sum(posterior, 1)\n",
    "marginal"
   ]
  },
  {
   "cell_type": "code",
   "execution_count": 30,
   "id": "50e6a19b-b240-4e4e-9c22-aad731248f80",
   "metadata": {},
   "outputs": [
    {
     "data": {
      "text/plain": [
       "tensor([[0.0703, 0.9297],\n",
       "        [0.1115, 0.8885],\n",
       "        [0.7970, 0.2030],\n",
       "        [0.8936, 0.1064],\n",
       "        [0.8100, 0.1900],\n",
       "        [0.1926, 0.8074]], dtype=torch.float64)"
      ]
     },
     "execution_count": 30,
     "metadata": {},
     "output_type": "execute_result"
    }
   ],
   "source": [
    "# Normalize porsterior into probabilities\n",
    "posterior = posterior / marginal.view(-1, 1) \n",
    "posterior"
   ]
  },
  {
   "cell_type": "code",
   "execution_count": 31,
   "id": "03eba27d-d833-4131-882f-c883d1ad7d2d",
   "metadata": {},
   "outputs": [
    {
     "data": {
      "text/plain": [
       "[array([[0.11111111, 0.88888889],\n",
       "        [0.06163022, 0.93836978],\n",
       "        [0.68386767, 0.31613233],\n",
       "        [0.85819949, 0.14180051],\n",
       "        [0.89028987, 0.10971013],\n",
       "        [0.19256815, 0.80743185]]),\n",
       " array([[1.40699516, 2.32412561],\n",
       "        [3.23616294, 1.69423506],\n",
       "        [2.72775586, 1.50282191],\n",
       "        [1.73108003, 1.24784833],\n",
       "        [1.39911871, 2.66283883],\n",
       "        [2.93497129, 2.93497129]]),\n",
       " array([[0.07034976, 0.92965024],\n",
       "        [0.11146783, 0.88853217],\n",
       "        [0.79701447, 0.20298553],\n",
       "        [0.89357028, 0.10642972],\n",
       "        [0.81002232, 0.18997768],\n",
       "        [0.19256815, 0.80743185]])]"
      ]
     },
     "execution_count": 31,
     "metadata": {},
     "output_type": "execute_result"
    }
   ],
   "source": [
    "results = [model.forward.cpu().numpy(), model.backward.cpu().numpy(), posterior.cpu().numpy()]\n",
    "result_list = [\"Forward\", \"Backward\", \"Posterior\"]\n",
    "results"
   ]
  },
  {
   "cell_type": "code",
   "execution_count": 32,
   "id": "686b0d43-f9fb-4154-a355-a563e05d2c1d",
   "metadata": {},
   "outputs": [
    {
     "name": "stdout",
     "output_type": "stream",
     "text": [
      "\n",
      "Forward\n",
      "       0        1        2        3        4        5\n",
      "rain: 0.11111 0.06163 0.68386 0.85819 0.89029 0.19256\n",
      "no_rain: 0.88888 0.93837 0.31613 0.14180 0.10971 0.80743\n",
      "\n",
      "\n",
      "Backward\n",
      "       0        1        2        3        4        5\n",
      "rain: 1.40699 3.23616 2.72775 1.73108 1.39911 2.93497\n",
      "no_rain: 2.32412 1.69423 1.50282 1.24784 2.66283 2.93497\n",
      "\n",
      "\n",
      "Posterior\n",
      "       0        1        2        3        4        5\n",
      "rain: 0.07035 0.11146 0.79701 0.89357 0.81002 0.19256\n",
      "no_rain: 0.92965 0.88853 0.20298 0.10643 0.18997 0.80743\n",
      "\n",
      "============================================================\n",
      "Most likely Final State:  no_rain\n",
      "============================================================\n"
     ]
    }
   ],
   "source": [
    "for state_prob, path in zip(results, result_list) :\n",
    "    inferred_states = np.argmax(state_prob, axis=1) # Returns the indices of the maximum values along axis 1\n",
    "    print()\n",
    "    print(path)\n",
    "    dptable(state_prob)\n",
    "    print()\n",
    "\n",
    "print(\"=\"*60)\n",
    "print(\"Most likely Final State: \",states[inferred_states[-1]])\n",
    "print(\"=\"*60)"
   ]
  },
  {
   "cell_type": "code",
   "execution_count": null,
   "id": "7d6b3ad3-35c2-40b1-94be-c602df401b00",
   "metadata": {},
   "outputs": [],
   "source": []
  },
  {
   "cell_type": "code",
   "execution_count": null,
   "id": "bbfa1616-8a28-4ecc-84cd-096f06642e9d",
   "metadata": {},
   "outputs": [],
   "source": []
  },
  {
   "cell_type": "code",
   "execution_count": null,
   "id": "5c045179-3ab6-4963-922d-0d6a1add761d",
   "metadata": {},
   "outputs": [],
   "source": []
  },
  {
   "cell_type": "code",
   "execution_count": null,
   "id": "182b45a2-956a-45b6-af47-720e6409e392",
   "metadata": {},
   "outputs": [],
   "source": []
  }
 ],
 "metadata": {
  "kernelspec": {
   "display_name": "Python 3 (ipykernel)",
   "language": "python",
   "name": "python3"
  },
  "language_info": {
   "codemirror_mode": {
    "name": "ipython",
    "version": 3
   },
   "file_extension": ".py",
   "mimetype": "text/x-python",
   "name": "python",
   "nbconvert_exporter": "python",
   "pygments_lexer": "ipython3",
   "version": "3.11.4"
  }
 },
 "nbformat": 4,
 "nbformat_minor": 5
}
